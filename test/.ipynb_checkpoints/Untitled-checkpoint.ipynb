{
 "cells": [
  {
   "cell_type": "code",
   "execution_count": 1,
   "metadata": {},
   "outputs": [],
   "source": [
    "from twitterCrawler.myClass import TwitterDriver"
   ]
  },
  {
   "cell_type": "code",
   "execution_count": 2,
   "metadata": {},
   "outputs": [],
   "source": [
    "p=TwitterDriver()"
   ]
  },
  {
   "cell_type": "code",
   "execution_count": 3,
   "metadata": {},
   "outputs": [],
   "source": [
    "p.get_browser(usr=\"\",pwd=\"\")"
   ]
  },
  {
   "cell_type": "code",
   "execution_count": 8,
   "metadata": {},
   "outputs": [
    {
     "name": "stdout",
     "output_type": "stream",
     "text": [
      "{'name': '@canardenchaine', 'nb_tweets': '1,639 Tweets', 'user_description': \"Compte officiel du Canard Enchaîné - La liberté de la presse ne s'use que quand on ne s'en sert pas.\", 'data': 'Parislecanardenchaine.frJoined June 2012', 'following': '237', 'followers': '684,634', 'image': 'https://pbs.twimg.com/profile_images/2337798993/kslijvswdkfer42ptwiu_200x200.jpeg'}\n"
     ]
    }
   ],
   "source": [
    "p.get_user_info(user_id=\"canardenchaine\")"
   ]
  },
  {
   "cell_type": "code",
   "execution_count": 13,
   "metadata": {},
   "outputs": [
    {
     "data": {
      "text/plain": [
       "{'name': '@canardenchaine',\n",
       " 'nb_tweets': '1,639 Tweets',\n",
       " 'user_description': \"Compte officiel du Canard Enchaîné - La liberté de la presse ne s'use que quand on ne s'en sert pas.\",\n",
       " 'data': 'Parislecanardenchaine.frJoined June 2012',\n",
       " 'following': '237',\n",
       " 'followers': '684,634',\n",
       " 'image': 'https://pbs.twimg.com/profile_images/2337798993/kslijvswdkfer42ptwiu_200x200.jpeg'}"
      ]
     },
     "execution_count": 13,
     "metadata": {},
     "output_type": "execute_result"
    }
   ],
   "source": [
    "p.user_info"
   ]
  },
  {
   "cell_type": "code",
   "execution_count": 5,
   "metadata": {},
   "outputs": [
    {
     "name": "stdout",
     "output_type": "stream",
     "text": [
      "pub1\n",
      "pub2\n"
     ]
    },
    {
     "data": {
      "text/plain": [
       "{'post1': {'contenu': 'La Une du 2 septembre 2020 est à consulter ici :\\nhttps://lecanardenchaine.fr/la-une-du-2-septembre-2020/…',\n",
       "  'image': '',\n",
       "  'date': '11:56 PM · Sep 1, 2020',\n",
       "  'Retweets and comments': '44\\n Retweets',\n",
       "  'likes': '4\\n Quote Tweets'},\n",
       " 'post2': {'contenu': 'DEMAIN DANS LE CANARD\\nLe vidage supersonique d’une conseillère du ministre Dupond-Moretti',\n",
       "  'image': '',\n",
       "  'date': '3:13 PM · Sep 1, 2020',\n",
       "  'Retweets and comments': '99\\n Retweets',\n",
       "  'likes': '3\\n Quote Tweets'}}"
      ]
     },
     "execution_count": 5,
     "metadata": {},
     "output_type": "execute_result"
    }
   ],
   "source": [
    "p.get_publications(user_id=\"canardenchaine\",n=2,comments=\"F\")"
   ]
  },
  {
   "cell_type": "code",
   "execution_count": 6,
   "metadata": {},
   "outputs": [
    {
     "data": {
      "text/plain": [
       "[['Citoyenne\\n@Citoyen91157037',\n",
       "  'Ils l ont virée c est un vidage ou elle a viré c est un virage ??? ',\n",
       "  '3:19 PM · Sep 1, 2020'],\n",
       " ['JJ vélotaffeur dé-masqué\\n@JeanJacques92',\n",
       "  'ou bien cette action supersonique signifie-t-elle que ce poste était un Mirage ?',\n",
       "  '4:25 PM · Sep 1, 2020'],\n",
       " ['Rendash\\n@LeCasRendash',\n",
       "  \"Les gens, c'est bien vidage, pas virage.\\n« Vidage », comme par un videur, quoi. \\nÉjectement, dégageation, renvoyure, si vous préférez \",\n",
       "  '6:10 PM · Sep 1, 2020'],\n",
       " ['Ciaobella\\n@Ciaobella12321',\n",
       "  'Ça m’étonne qu’il ait accepté une conseillère femme...',\n",
       "  '3:45 PM · Sep 1, 2020'],\n",
       " ['a ™\\n@paquetdelessive',\n",
       "  'La vidange de Dupond-Moretti ? ',\n",
       "  '3:19 PM · Sep 1, 2020'],\n",
       " ['Patounet 22\\n@22Patounet',\n",
       "  'Elle a peut-être refusé une faveur au gros féministe.',\n",
       "  '7:10 PM · Sep 1, 2020'],\n",
       " ['Crayon - Gaulois.\\n@Champ_de_mines',\n",
       "  'La vache, achetez donc Le Canard, il peut aussi servir à apprendre à lire !',\n",
       "  '5:28 PM · Sep 2, 2020'],\n",
       " ['Jayjayrémy\\n@Jayjayraymy', '\"Virage\" ?', '3:17 PM · Sep 1, 2020'],\n",
       " ['Flo\\n@Florentgen',\n",
       "  \"Ou 'vidage' plutôt dans le sens 'vider son sac'?\",\n",
       "  '3:47 PM · Sep 1, 2020'],\n",
       " ['Humain974\\n@humain974', 'Elle a accouché ?', '7:07 PM · Sep 1, 2020'],\n",
       " ['deuxieme_ballon\\n@deuxieme_ballon',\n",
       "  'Y en a un paquet qui ne lisent pas le Canard pour s’interroger sur l’orthographe \\n! Grave',\n",
       "  '8:10 PM · Sep 1, 2020'],\n",
       " ['Pr James NEO\\n@EMITIPRASTIN',\n",
       "  \"N'en tirons pas des conclusions hâtives , c'est peut être...l'idiot du vidage !\",\n",
       "  '7:27 PM · Sep 1, 2020'],\n",
       " ['Benoît Goupil\\n@BenoitGoupil',\n",
       "  \"Le Canard Enchaîné sait écrire le français, merci pour lui. Virage pour virer quelqu'un ça n'existe pas. Vidage, se faire vider, sont utilisés depuis longtemps dans ce sens, mais apparemment plus assez pour que les gens s'en souviennent.\",\n",
       "  '4:22 PM · Sep 1, 2020'],\n",
       " ['Georgy\\n#Macron2022\\n@regueyne', '?', '3:14 PM · Sep 1, 2020'],\n",
       " ['Benjamin\\n@soussouz31', '?', '3:15 PM · Sep 1, 2020'],\n",
       " ['Sahraoui Khira\\n@KhiraSahraoui',\n",
       "  'Une coquille !?...le ‘’ d ‘’ à la place du ‘’ r ‘’ ',\n",
       "  '3:20 PM · Sep 1, 2020']]"
      ]
     },
     "execution_count": 6,
     "metadata": {},
     "output_type": "execute_result"
    }
   ],
   "source": [
    "p.get_comment_by_publication(publication_id=\"https://twitter.com/canardenchaine/status/1300783735881764867\",n=10)"
   ]
  }
 ],
 "metadata": {
  "kernelspec": {
   "display_name": "Python 3",
   "language": "python",
   "name": "python3"
  },
  "language_info": {
   "codemirror_mode": {
    "name": "ipython",
    "version": 3
   },
   "file_extension": ".py",
   "mimetype": "text/x-python",
   "name": "python",
   "nbconvert_exporter": "python",
   "pygments_lexer": "ipython3",
   "version": "3.8.3"
  }
 },
 "nbformat": 4,
 "nbformat_minor": 4
}
